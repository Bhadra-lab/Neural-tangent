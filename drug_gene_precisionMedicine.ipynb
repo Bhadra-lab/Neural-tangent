{
  "nbformat": 4,
  "nbformat_minor": 0,
  "metadata": {
    "colab": {
      "provenance": [],
      "include_colab_link": true
    },
    "kernelspec": {
      "name": "python3",
      "display_name": "Python 3"
    },
    "language_info": {
      "name": "python"
    }
  },
  "cells": [
    {
      "cell_type": "markdown",
      "metadata": {
        "id": "view-in-github",
        "colab_type": "text"
      },
      "source": [
        "<a href=\"https://colab.research.google.com/github/Bhadra-lab/Neural-tangent/blob/main/drug_gene_precisionMedicine.ipynb\" target=\"_parent\"><img src=\"https://colab.research.google.com/assets/colab-badge.svg\" alt=\"Open In Colab\"/></a>"
      ]
    },
    {
      "cell_type": "markdown",
      "source": [
        "### *Precision medicine aims to tailor medical treatments to each patient's unique characteristics. Understanding drug-gene interactions is crucial for this goal. These interactions help identify the most effective drugs for individual patients based on their genetic makeup. Genetic variability greatly affects how people respond to drugs, including differences in drug metabolism, transport, and target proteins.*"
      ],
      "metadata": {
        "id": "WsTJoidj7Rzg"
      }
    },
    {
      "cell_type": "markdown",
      "source": [
        "**We explore the training of infinitely-wide, Bayesian, neural networks using a library called Neural Tangents.**"
      ],
      "metadata": {
        "id": "9sXMFDCWFODs"
      }
    },
    {
      "cell_type": "markdown",
      "source": [
        "JAX is an open-source Python library developed by Google Research primarily for high-performance numerical computing and machine learning. It is similar to NumPy, but with added features to enable automatic differentiation and GPU/TPU acceleration."
      ],
      "metadata": {
        "id": "i9FoMXClEZFY"
      }
    },
    {
      "cell_type": "code",
      "execution_count": null,
      "metadata": {
        "colab": {
          "base_uri": "https://localhost:8080/"
        },
        "id": "el1o8453EWhA",
        "outputId": "7ba36aa7-38d1-4613-8ff1-8727953df9ae"
      },
      "outputs": [
        {
          "output_type": "stream",
          "name": "stdout",
          "text": [
            "Requirement already satisfied: jax in /usr/local/lib/python3.10/dist-packages (0.4.26)\n",
            "Requirement already satisfied: jaxlib in /usr/local/lib/python3.10/dist-packages (0.4.26+cuda12.cudnn89)\n",
            "Requirement already satisfied: ml-dtypes>=0.2.0 in /usr/local/lib/python3.10/dist-packages (from jax) (0.2.0)\n",
            "Requirement already satisfied: numpy>=1.22 in /usr/local/lib/python3.10/dist-packages (from jax) (1.25.2)\n",
            "Requirement already satisfied: opt-einsum in /usr/local/lib/python3.10/dist-packages (from jax) (3.3.0)\n",
            "Requirement already satisfied: scipy>=1.9 in /usr/local/lib/python3.10/dist-packages (from jax) (1.11.4)\n"
          ]
        }
      ],
      "source": [
        "!pip install jax jaxlib --upgrade"
      ]
    },
    {
      "cell_type": "markdown",
      "source": [
        "Neural Tangents is a Python library built on top of JAX that provides tools for analyzing the behavior of neural networks, particularly in the infinite-width limit"
      ],
      "metadata": {
        "id": "zrT1l2fnGDJo"
      }
    },
    {
      "cell_type": "code",
      "source": [
        "!pip install neural-tangents"
      ],
      "metadata": {
        "colab": {
          "base_uri": "https://localhost:8080/"
        },
        "id": "nIts4Bn4GWLh",
        "outputId": "f0c0bffa-e883-4961-d876-1bb79cc145c0"
      },
      "execution_count": null,
      "outputs": [
        {
          "output_type": "stream",
          "name": "stdout",
          "text": [
            "Requirement already satisfied: neural-tangents in /usr/local/lib/python3.10/dist-packages (0.6.5)\n",
            "Requirement already satisfied: jax>=0.4.16 in /usr/local/lib/python3.10/dist-packages (from neural-tangents) (0.4.26)\n",
            "Requirement already satisfied: frozendict>=2.3.8 in /usr/local/lib/python3.10/dist-packages (from neural-tangents) (2.4.1)\n",
            "Requirement already satisfied: tensorflow>=2.15.0 in /usr/local/lib/python3.10/dist-packages (from neural-tangents) (2.15.0)\n",
            "Requirement already satisfied: tf2jax>=0.3.5 in /usr/local/lib/python3.10/dist-packages (from neural-tangents) (0.3.6)\n",
            "Requirement already satisfied: ml-dtypes>=0.2.0 in /usr/local/lib/python3.10/dist-packages (from jax>=0.4.16->neural-tangents) (0.2.0)\n",
            "Requirement already satisfied: numpy>=1.22 in /usr/local/lib/python3.10/dist-packages (from jax>=0.4.16->neural-tangents) (1.25.2)\n",
            "Requirement already satisfied: opt-einsum in /usr/local/lib/python3.10/dist-packages (from jax>=0.4.16->neural-tangents) (3.3.0)\n",
            "Requirement already satisfied: scipy>=1.9 in /usr/local/lib/python3.10/dist-packages (from jax>=0.4.16->neural-tangents) (1.11.4)\n",
            "Requirement already satisfied: absl-py>=1.0.0 in /usr/local/lib/python3.10/dist-packages (from tensorflow>=2.15.0->neural-tangents) (1.4.0)\n",
            "Requirement already satisfied: astunparse>=1.6.0 in /usr/local/lib/python3.10/dist-packages (from tensorflow>=2.15.0->neural-tangents) (1.6.3)\n",
            "Requirement already satisfied: flatbuffers>=23.5.26 in /usr/local/lib/python3.10/dist-packages (from tensorflow>=2.15.0->neural-tangents) (24.3.25)\n",
            "Requirement already satisfied: gast!=0.5.0,!=0.5.1,!=0.5.2,>=0.2.1 in /usr/local/lib/python3.10/dist-packages (from tensorflow>=2.15.0->neural-tangents) (0.5.4)\n",
            "Requirement already satisfied: google-pasta>=0.1.1 in /usr/local/lib/python3.10/dist-packages (from tensorflow>=2.15.0->neural-tangents) (0.2.0)\n",
            "Requirement already satisfied: h5py>=2.9.0 in /usr/local/lib/python3.10/dist-packages (from tensorflow>=2.15.0->neural-tangents) (3.9.0)\n",
            "Requirement already satisfied: libclang>=13.0.0 in /usr/local/lib/python3.10/dist-packages (from tensorflow>=2.15.0->neural-tangents) (18.1.1)\n",
            "Requirement already satisfied: packaging in /usr/local/lib/python3.10/dist-packages (from tensorflow>=2.15.0->neural-tangents) (24.0)\n",
            "Requirement already satisfied: protobuf!=4.21.0,!=4.21.1,!=4.21.2,!=4.21.3,!=4.21.4,!=4.21.5,<5.0.0dev,>=3.20.3 in /usr/local/lib/python3.10/dist-packages (from tensorflow>=2.15.0->neural-tangents) (3.20.3)\n",
            "Requirement already satisfied: setuptools in /usr/local/lib/python3.10/dist-packages (from tensorflow>=2.15.0->neural-tangents) (67.7.2)\n",
            "Requirement already satisfied: six>=1.12.0 in /usr/local/lib/python3.10/dist-packages (from tensorflow>=2.15.0->neural-tangents) (1.16.0)\n",
            "Requirement already satisfied: termcolor>=1.1.0 in /usr/local/lib/python3.10/dist-packages (from tensorflow>=2.15.0->neural-tangents) (2.4.0)\n",
            "Requirement already satisfied: typing-extensions>=3.6.6 in /usr/local/lib/python3.10/dist-packages (from tensorflow>=2.15.0->neural-tangents) (4.10.0)\n",
            "Requirement already satisfied: wrapt<1.15,>=1.11.0 in /usr/local/lib/python3.10/dist-packages (from tensorflow>=2.15.0->neural-tangents) (1.14.1)\n",
            "Requirement already satisfied: tensorflow-io-gcs-filesystem>=0.23.1 in /usr/local/lib/python3.10/dist-packages (from tensorflow>=2.15.0->neural-tangents) (0.36.0)\n",
            "Requirement already satisfied: grpcio<2.0,>=1.24.3 in /usr/local/lib/python3.10/dist-packages (from tensorflow>=2.15.0->neural-tangents) (1.62.1)\n",
            "Requirement already satisfied: tensorboard<2.16,>=2.15 in /usr/local/lib/python3.10/dist-packages (from tensorflow>=2.15.0->neural-tangents) (2.15.2)\n",
            "Requirement already satisfied: tensorflow-estimator<2.16,>=2.15.0 in /usr/local/lib/python3.10/dist-packages (from tensorflow>=2.15.0->neural-tangents) (2.15.0)\n",
            "Requirement already satisfied: keras<2.16,>=2.15.0 in /usr/local/lib/python3.10/dist-packages (from tensorflow>=2.15.0->neural-tangents) (2.15.0)\n",
            "Requirement already satisfied: dm-tree>=0.1.5 in /usr/local/lib/python3.10/dist-packages (from tf2jax>=0.3.5->neural-tangents) (0.1.8)\n",
            "Requirement already satisfied: jaxlib>=0.1.37 in /usr/local/lib/python3.10/dist-packages (from tf2jax>=0.3.5->neural-tangents) (0.4.26+cuda12.cudnn89)\n",
            "Requirement already satisfied: wheel<1.0,>=0.23.0 in /usr/local/lib/python3.10/dist-packages (from astunparse>=1.6.0->tensorflow>=2.15.0->neural-tangents) (0.43.0)\n",
            "Requirement already satisfied: google-auth<3,>=1.6.3 in /usr/local/lib/python3.10/dist-packages (from tensorboard<2.16,>=2.15->tensorflow>=2.15.0->neural-tangents) (2.27.0)\n",
            "Requirement already satisfied: google-auth-oauthlib<2,>=0.5 in /usr/local/lib/python3.10/dist-packages (from tensorboard<2.16,>=2.15->tensorflow>=2.15.0->neural-tangents) (1.2.0)\n",
            "Requirement already satisfied: markdown>=2.6.8 in /usr/local/lib/python3.10/dist-packages (from tensorboard<2.16,>=2.15->tensorflow>=2.15.0->neural-tangents) (3.6)\n",
            "Requirement already satisfied: requests<3,>=2.21.0 in /usr/local/lib/python3.10/dist-packages (from tensorboard<2.16,>=2.15->tensorflow>=2.15.0->neural-tangents) (2.31.0)\n",
            "Requirement already satisfied: tensorboard-data-server<0.8.0,>=0.7.0 in /usr/local/lib/python3.10/dist-packages (from tensorboard<2.16,>=2.15->tensorflow>=2.15.0->neural-tangents) (0.7.2)\n",
            "Requirement already satisfied: werkzeug>=1.0.1 in /usr/local/lib/python3.10/dist-packages (from tensorboard<2.16,>=2.15->tensorflow>=2.15.0->neural-tangents) (3.0.2)\n",
            "Requirement already satisfied: cachetools<6.0,>=2.0.0 in /usr/local/lib/python3.10/dist-packages (from google-auth<3,>=1.6.3->tensorboard<2.16,>=2.15->tensorflow>=2.15.0->neural-tangents) (5.3.3)\n",
            "Requirement already satisfied: pyasn1-modules>=0.2.1 in /usr/local/lib/python3.10/dist-packages (from google-auth<3,>=1.6.3->tensorboard<2.16,>=2.15->tensorflow>=2.15.0->neural-tangents) (0.4.0)\n",
            "Requirement already satisfied: rsa<5,>=3.1.4 in /usr/local/lib/python3.10/dist-packages (from google-auth<3,>=1.6.3->tensorboard<2.16,>=2.15->tensorflow>=2.15.0->neural-tangents) (4.9)\n",
            "Requirement already satisfied: requests-oauthlib>=0.7.0 in /usr/local/lib/python3.10/dist-packages (from google-auth-oauthlib<2,>=0.5->tensorboard<2.16,>=2.15->tensorflow>=2.15.0->neural-tangents) (1.3.1)\n",
            "Requirement already satisfied: charset-normalizer<4,>=2 in /usr/local/lib/python3.10/dist-packages (from requests<3,>=2.21.0->tensorboard<2.16,>=2.15->tensorflow>=2.15.0->neural-tangents) (3.3.2)\n",
            "Requirement already satisfied: idna<4,>=2.5 in /usr/local/lib/python3.10/dist-packages (from requests<3,>=2.21.0->tensorboard<2.16,>=2.15->tensorflow>=2.15.0->neural-tangents) (3.6)\n",
            "Requirement already satisfied: urllib3<3,>=1.21.1 in /usr/local/lib/python3.10/dist-packages (from requests<3,>=2.21.0->tensorboard<2.16,>=2.15->tensorflow>=2.15.0->neural-tangents) (2.0.7)\n",
            "Requirement already satisfied: certifi>=2017.4.17 in /usr/local/lib/python3.10/dist-packages (from requests<3,>=2.21.0->tensorboard<2.16,>=2.15->tensorflow>=2.15.0->neural-tangents) (2024.2.2)\n",
            "Requirement already satisfied: MarkupSafe>=2.1.1 in /usr/local/lib/python3.10/dist-packages (from werkzeug>=1.0.1->tensorboard<2.16,>=2.15->tensorflow>=2.15.0->neural-tangents) (2.1.5)\n",
            "Requirement already satisfied: pyasn1<0.7.0,>=0.4.6 in /usr/local/lib/python3.10/dist-packages (from pyasn1-modules>=0.2.1->google-auth<3,>=1.6.3->tensorboard<2.16,>=2.15->tensorflow>=2.15.0->neural-tangents) (0.6.0)\n",
            "Requirement already satisfied: oauthlib>=3.0.0 in /usr/local/lib/python3.10/dist-packages (from requests-oauthlib>=0.7.0->google-auth-oauthlib<2,>=0.5->tensorboard<2.16,>=2.15->tensorflow>=2.15.0->neural-tangents) (3.2.2)\n"
          ]
        }
      ]
    },
    {
      "cell_type": "code",
      "source": [
        "\n",
        "# used synthetic dataset\n",
        "\n",
        "key1, key2 = random.split(random.PRNGKey(1))\n",
        "Drug_set1 = random.normal(key1, (20, 100)) # drug-gene interaction no-missing data\n",
        "Drug_set2 = random.normal(key1, (50, 100)) # there is a missing interaction of these drug with a particular gene\n",
        "specific_interaction_set1 = random.uniform(key1, shape=(20, 1)) # this drug-gene interaction missing in drug set 2 (training target)\n"
      ],
      "metadata": {
        "id": "29JkmP9hRBYL"
      },
      "execution_count": null,
      "outputs": []
    },
    {
      "cell_type": "markdown",
      "source": [
        "We'll define our network using a neural network library closely resembling JAX's stax library. In this library, layers are represented by pairs of functions: init_fn and apply_fn. The init_fn function initializes parameters randomly based on a given input shape, while apply_fn computes the outputs of the function for specific inputs using the parameters.\n",
        "\n",
        "In the neural_tangents.stax library, layers are represented by triplets of functions: init_fn, apply_fn, and kernel_fn. The first two functions, init_fn and apply_fn, function similarly to their counterparts in stax. However, the third function, kernel_fn, calculates infinite-width Gaussian process (GP) kernels corresponding to the layer."
      ],
      "metadata": {
        "id": "WhpQT-feSSeL"
      }
    },
    {
      "cell_type": "code",
      "source": [
        "from jax import random\n",
        "from neural_tangents import stax\n",
        "\n",
        "init_fn, apply_fn, kernel_fn = stax.serial(\n",
        "    stax.Dense(512), stax.Relu(),\n",
        "    stax.Dense(512), stax.Relu(),\n",
        "    stax.Dense(1)\n",
        ")"
      ],
      "metadata": {
        "id": "CY2wZ59PUI-Z"
      },
      "execution_count": null,
      "outputs": []
    },
    {
      "cell_type": "markdown",
      "source": [
        "Next, we explore the exact prior over functions in the infinite-width limit using the kernel_fn. The kernel function, denoted as kernel = kernel_fn(k_1, k_2), calculates the kernel between two sets of inputs, k_1 and k_2. The kernel_fn can compute two distinct kernels: the NNGP kernel (Neural Network Gaussian Process), which characterizes the Bayesian infinite network, and the NT kernel (Neural Tangent Kernel), which illustrates how this network progresses under gradient descent. \\\\\n",
        "\n",
        "\n",
        "*   k_1 and k_2 could both be the training data, if you want to compute the kernel matrix among all training examples.\n",
        "*   k_1 could be the training data and k_2 could be the test data, if you want to compute the cross-kernel matrix between training and test examples.\n",
        "*   k_1 and k_2 could be entirely different sets of data, unrelated to training or testing, for some other analysis or comparison."
      ],
      "metadata": {
        "id": "HeAi0I7bVA8o"
      }
    },
    {
      "cell_type": "code",
      "source": [
        "## compute the cross-kernel matrix between training and test examples.\n",
        "import jax.numpy as jnp\n",
        "nngp = kernel_fn(Drug_set1, Drug_set2, 'nngp')\n",
        "ntk = kernel_fn(Drug_set1, Drug_set2, 'ntk')"
      ],
      "metadata": {
        "id": "fkv-OuR1VAmf"
      },
      "execution_count": null,
      "outputs": []
    },
    {
      "cell_type": "markdown",
      "source": [
        "The nt.predict.gradient_descent_mse_ensemble function is part of the neural_tangents library in JAX, specifically within the predict module. This function is used to compute predictions from an ensemble of neural networks after performing gradient descent training using mean squared error (MSE) loss.\n",
        "\n",
        "This predict_fn function includes two different modes: in \"NNGP\" mode we compute the Bayesian posterior (which is equivalent to gradient descent with all but the last-layer weights frozen), in \"NTK\" mode we compute the distribution of networks after gradient descent training."
      ],
      "metadata": {
        "id": "1aRGZHMoa77u"
      }
    },
    {
      "cell_type": "code",
      "source": [
        "import neural_tangents as nt\n",
        "\n",
        "predict_fn = nt.predict.gradient_descent_mse_ensemble(kernel_fn, Drug_set1,specific_interaction_set1)\n",
        "\n",
        "#y_test_nngp = predict_fn(x_test=X_test, get='nngp')\n",
        "missing_interaction_ntk = predict_fn(x_test=Drug_set2, get='ntk')\n",
        "\n"
      ],
      "metadata": {
        "id": "ZHZDszUQfyWX"
      },
      "execution_count": null,
      "outputs": []
    },
    {
      "cell_type": "code",
      "source": [
        "print(missing_interaction_ntk)"
      ],
      "metadata": {
        "colab": {
          "base_uri": "https://localhost:8080/"
        },
        "id": "CipT7v_BoDQk",
        "outputId": "15575f13-5a7c-4304-dfed-d7a66106b21b"
      },
      "execution_count": null,
      "outputs": [
        {
          "output_type": "stream",
          "name": "stdout",
          "text": [
            "[[0.49183676]\n",
            " [0.4087034 ]\n",
            " [0.42373955]\n",
            " [0.39780936]\n",
            " [0.4478033 ]\n",
            " [0.39586216]\n",
            " [0.4310285 ]\n",
            " [0.41442433]\n",
            " [0.3682715 ]\n",
            " [0.4265475 ]\n",
            " [0.41246817]\n",
            " [0.37055683]\n",
            " [0.34291947]\n",
            " [0.42827386]\n",
            " [0.39322692]\n",
            " [0.42034617]\n",
            " [0.46186164]\n",
            " [0.3531958 ]\n",
            " [0.29335907]\n",
            " [0.48094597]\n",
            " [0.4656588 ]\n",
            " [0.3632041 ]\n",
            " [0.3443497 ]\n",
            " [0.36552286]\n",
            " [0.4129476 ]\n",
            " [0.37792048]\n",
            " [0.35632676]\n",
            " [0.40715608]\n",
            " [0.41331872]\n",
            " [0.35961902]\n",
            " [0.43581748]\n",
            " [0.4082433 ]\n",
            " [0.42031568]\n",
            " [0.3894707 ]\n",
            " [0.29209775]\n",
            " [0.45162088]\n",
            " [0.31991184]\n",
            " [0.41406566]\n",
            " [0.44170672]\n",
            " [0.38474664]\n",
            " [0.31312734]\n",
            " [0.38084272]\n",
            " [0.43842906]\n",
            " [0.27906573]\n",
            " [0.46072945]\n",
            " [0.33172214]\n",
            " [0.44671074]\n",
            " [0.3238895 ]\n",
            " [0.3953954 ]\n",
            " [0.3058522 ]]\n"
          ]
        }
      ]
    }
  ]
}